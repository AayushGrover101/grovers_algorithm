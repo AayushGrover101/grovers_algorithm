{
 "cells": [
  {
   "cell_type": "markdown",
   "id": "2edca9bd",
   "metadata": {},
   "source": [
    "# Grover's Algorithm - AAYUSH GROVER"
   ]
  },
  {
   "cell_type": "markdown",
   "id": "a207f2f7",
   "metadata": {},
   "source": [
    "Before going into **Grover's Search Algorithm**, let's code out the classical counterpart to make a direct comparison. We're going to attempt to search for a value within an **unsorted python list** and find out how fast we can do it.\n",
    "\n",
    "We're going to be using something known as an oracle. In this case, the oracle is going to go through all of our numbers and return True if it reaches the searched number, and False if not. The idea is that we search through this list until the oracle reaches True and find the amount of times the oracle ran."
   ]
  },
  {
   "cell_type": "code",
   "execution_count": 1,
   "id": "d96bfcbb",
   "metadata": {},
   "outputs": [],
   "source": [
    "unsorted_list = [1, 5, 6, 8, 9, 3, 5, 7, 9, 2, 3, 6, 8]"
   ]
  },
  {
   "cell_type": "code",
   "execution_count": 2,
   "id": "e8ac4b2f",
   "metadata": {},
   "outputs": [],
   "source": [
    "# check each element of list and look to see if it is a 2\n",
    "def classical_oracle(input):\n",
    "    searched_num = 2\n",
    "    if input == searched_num:\n",
    "        return True\n",
    "    else:\n",
    "        return False"
   ]
  },
  {
   "cell_type": "code",
   "execution_count": 3,
   "id": "588b99c8",
   "metadata": {},
   "outputs": [
    {
     "name": "stdout",
     "output_type": "stream",
     "text": [
      "Index of searched number: 9\n",
      "Oracle called 10 times\n"
     ]
    }
   ],
   "source": [
    "for index, num in enumerate(unsorted_list):\n",
    "    if classical_oracle(num) == True:\n",
    "        print(\"Index of searched number: %i\"%index)\n",
    "        print(\"Oracle called %i times\"%(index+1))"
   ]
  },
  {
   "cell_type": "markdown",
   "id": "5bb09479",
   "metadata": {},
   "source": [
    "<hr>\n",
    "***The number 2 is in the 9th index. To get this value, our oracle had to be called 10 times. We can see that our oracle has to go through every single element to get to the searched value.***\n",
    "\n",
    "This means that at most, unsorted searched are done in $O(N)$ and on average, $O(\\frac{N}{2})$. We're going to be using Grover's Algorithm to reduce this to $O(\\sqrt(N))$\n",
    "<hr>"
   ]
  },
  {
   "cell_type": "markdown",
   "id": "4e194b44",
   "metadata": {},
   "source": [
    "Grover's Algorithm is a LOT faster, but also much more complicated. Each element is assigned to a certain combination of qubits. For example, if we have the list [1, 2, 3, 4], 1 is assigned to 00, 2 is assigned to 01, 3 is assigned to 10, and 4 is assigned to 11.\n",
    "\n",
    "The idea is that we find what we're attempting to look for (let's say 4 in this case), multiply it by -1, and then reflect it across the initial state vector. Geometrically speaking, this is known as amplitude amplification and makes the probability of the return being 11 much higher.\n",
    "<br><br>\n",
    "<hr>"
   ]
  },
  {
   "cell_type": "markdown",
   "id": "c8ced932",
   "metadata": {},
   "source": [
    "## Grover's Algorithm Implementation\n",
    "\n",
    "The **oracle** in Grover's Algorithm is going to search for the specific qubit combination that we're looking for and multiply it by \"-1,\" another way of saying reflect along the Z-axis. \n",
    "\n",
    "Then, we're going to use a **Diffuser function** which amplifies its amplitude significantly.\n",
    "\n",
    "**We run this oracle and diffuser at most $O(\\sqrt(N))$ times to get an accurate result, thus speeding up our search significantly**"
   ]
  },
  {
   "cell_type": "code",
   "execution_count": 4,
   "id": "f0fcba7c",
   "metadata": {},
   "outputs": [],
   "source": [
    "from qiskit import *\n",
    "import matplotlib.pyplot as plt\n",
    "import numpy as np"
   ]
  },
  {
   "cell_type": "code",
   "execution_count": 5,
   "id": "90b8a563",
   "metadata": {},
   "outputs": [
    {
     "data": {
      "image/png": "[encoded data removed]",
      "text/plain": [
       "<Figure size 146.652x144.48 with 1 Axes>"
      ]
     },
     "execution_count": 5,
     "metadata": {},
     "output_type": "execute_result"
    }
   ],
   "source": [
    "# oracle function\n",
    "oracle = QuantumCircuit(2, name = 'oracle')\n",
    "oracle.cz(0,1) # this gate creates a phase flip on |11>, marking it\n",
    "oracle.to_gate()\n",
    "oracle.draw(output='mpl')"
   ]
  },
  {
   "cell_type": "code",
   "execution_count": 6,
   "id": "bbde1096",
   "metadata": {},
   "outputs": [
    {
     "data": {
      "image/png": "[encoded data removed]",
      "text/plain": [
       "<Figure size 267.052x204.68 with 1 Axes>"
      ]
     },
     "execution_count": 6,
     "metadata": {},
     "output_type": "execute_result"
    }
   ],
   "source": [
    "grover_circuit = QuantumCircuit(2,2)\n",
    "grover_circuit.h([0,1])\n",
    "grover_circuit.append(oracle, [0,1])\n",
    "grover_circuit.draw(output='mpl')"
   ]
  },
  {
   "cell_type": "code",
   "execution_count": 7,
   "id": "f11e76f5",
   "metadata": {},
   "outputs": [],
   "source": [
    "backend = Aer.get_backend('statevector_simulator')\n",
    "result = execute(grover_circuit, backend).result()"
   ]
  },
  {
   "cell_type": "code",
   "execution_count": 8,
   "id": "bd27c5c9",
   "metadata": {},
   "outputs": [
    {
     "name": "stdout",
     "output_type": "stream",
     "text": [
      "[ 0.5+0.j  0.5+0.j  0.5+0.j -0.5+0.j]\n"
     ]
    }
   ],
   "source": [
    "statevector = result.get_statevector()\n",
    "print(np.asarray(statevector))"
   ]
  },
  {
   "cell_type": "markdown",
   "id": "c9062473",
   "metadata": {},
   "source": [
    "As we can see, the only state that's multiplied by -1 is the state 11. However, utilizing the Born rule, we still see that the probabilities are $\\frac{1}{4}$ to get each of the states. To change this, we need to utilize amplitude amplitifaction through the **diffuser circuit**"
   ]
  },
  {
   "cell_type": "code",
   "execution_count": 9,
   "id": "5ac59531",
   "metadata": {},
   "outputs": [
    {
     "data": {
      "image/png": "[encoded data removed]",
      "text/plain": [
       "<Figure size 327.252x144.48 with 1 Axes>"
      ]
     },
     "execution_count": 9,
     "metadata": {},
     "output_type": "execute_result"
    }
   ],
   "source": [
    "diffuser = QuantumCircuit(2, name = 'diffuser')\n",
    "diffuser.h([0,1])\n",
    "diffuser.z([0,1])\n",
    "diffuser.cz(0,1)\n",
    "diffuser.h([0,1])\n",
    "diffuser.to_gate()\n",
    "diffuser.draw(output='mpl')"
   ]
  },
  {
   "cell_type": "code",
   "execution_count": 10,
   "id": "94bfd916",
   "metadata": {},
   "outputs": [
    {
     "data": {
      "text/plain": [
       "<qiskit.circuit.instructionset.InstructionSet at 0x7fb3d2db0a00>"
      ]
     },
     "execution_count": 10,
     "metadata": {},
     "output_type": "execute_result"
    }
   ],
   "source": [
    "backend = Aer.get_backend('qasm_simulator')\n",
    "grover_circuit = QuantumCircuit(2,2)\n",
    "grover_circuit.h([0,1])\n",
    "grover_circuit.append(oracle, [0,1])\n",
    "grover_circuit.append(diffuser, [0,1])\n",
    "grover_circuit.measure([0,1], [0,1])"
   ]
  },
  {
   "cell_type": "code",
   "execution_count": 11,
   "id": "fdd313fc",
   "metadata": {},
   "outputs": [
    {
     "data": {
      "image/png": "[encoded data removed]",
      "text/plain": [
       "<Figure size 507.852x204.68 with 1 Axes>"
      ]
     },
     "execution_count": 11,
     "metadata": {},
     "output_type": "execute_result"
    }
   ],
   "source": [
    "grover_circuit.draw(output='mpl')"
   ]
  },
  {
   "cell_type": "code",
   "execution_count": 12,
   "id": "14e1bb7c",
   "metadata": {},
   "outputs": [
    {
     "data": {
      "text/plain": [
       "{'11': 1024}"
      ]
     },
     "execution_count": 12,
     "metadata": {},
     "output_type": "execute_result"
    }
   ],
   "source": [
    "result = execute(grover_circuit, backend).result()\n",
    "result.get_counts()"
   ]
  },
  {
   "cell_type": "markdown",
   "id": "3b168c11",
   "metadata": {},
   "source": [
    "As we can see, our result is always 11 no matter what! Our algorithm is a success."
   ]
  },
  {
   "cell_type": "markdown",
   "id": "573c1282",
   "metadata": {},
   "source": [
    "## Let's recreate the circuit but this time, let's create a general circuit and use 3 qubits instead of 2"
   ]
  },
  {
   "cell_type": "code",
   "execution_count": 13,
   "id": "05a227d9",
   "metadata": {},
   "outputs": [],
   "source": [
    "num_of_qubits = 3"
   ]
  },
  {
   "cell_type": "code",
   "execution_count": 18,
   "id": "cadc6c2f",
   "metadata": {},
   "outputs": [],
   "source": [
    "# create a circuit initializer\n",
    "def circ_initializer(qc, qubits):\n",
    "    for qubit in qubits:\n",
    "        qc.h(qubit)\n",
    "    return qc"
   ]
  },
  {
   "cell_type": "code",
   "execution_count": 19,
   "id": "27c43ca4",
   "metadata": {},
   "outputs": [
    {
     "data": {
      "image/png": "[encoded data removed]",
      "text/plain": [
       "<Figure size 206.997x204.68 with 1 Axes>"
      ]
     },
     "execution_count": 19,
     "metadata": {},
     "output_type": "execute_result"
    }
   ],
   "source": [
    "grover_circuit = QuantumCircuit(num_of_qubits)\n",
    "grover_circuit = circ_initializer(grover_circuit, [0,1,2])\n",
    "grover_circuit.barrier()\n",
    "grover_circuit.draw(output='mpl')"
   ]
  },
  {
   "cell_type": "code",
   "execution_count": 16,
   "id": "0a0062ff",
   "metadata": {},
   "outputs": [
    {
     "data": {
      "image/png": "[encoded data removed]",
      "text/plain": [
       "<Figure size 206.997x204.68 with 1 Axes>"
      ]
     },
     "execution_count": 16,
     "metadata": {},
     "output_type": "execute_result"
    }
   ],
   "source": [
    "# for this example, let's mark |101> and |110> using to controlled-z gates\n",
    "oracle = QuantumCircuit(num_of_qubits)\n",
    "oracle.cz(0, 2)\n",
    "oracle.cz(1, 2)\n",
    "oracle.to_gate()\n",
    "oracle.name = \"U$_w$\"\n",
    "oracle.draw(output='mpl')"
   ]
  },
  {
   "cell_type": "code",
   "execution_count": 17,
   "id": "984985dd",
   "metadata": {},
   "outputs": [],
   "source": [
    "# general diffuser function\n",
    "def diffuser(num_of_qubits):\n",
    "    diffuser = QuantumCircuit(num_of_qubits)\n",
    "    for qubit in range(num_of_qubits):\n",
    "        diffuser.h(qubit)\n",
    "    for qubit in range(num_of_qubits):\n",
    "        diffuser.x(qubit)\n",
    "    diffuser.h(num_of_qubits-1)\n",
    "    diffuser.mct(list(range(num_of_qubits-1)), num_of_qubits-1)  # multi-controlled-toffoli\n",
    "    diffuser.h(num_of_qubits-1)\n",
    "    for qubit in range(num_of_qubits):\n",
    "        diffuser.x(qubit)\n",
    "    for qubit in range(num_of_qubits):\n",
    "        diffuser.h(qubit)\n",
    "    diffuser.to_gate()\n",
    "    diffuser.name = \"U$_s$\"\n",
    "    return diffuser"
   ]
  },
  {
   "cell_type": "code",
   "execution_count": 20,
   "id": "ff7f1d75",
   "metadata": {},
   "outputs": [
    {
     "data": {
      "image/png": "[encoded data removed]",
      "text/plain": [
       "<Figure size 598.479x264.88 with 1 Axes>"
      ]
     },
     "execution_count": 20,
     "metadata": {},
     "output_type": "execute_result"
    }
   ],
   "source": [
    "# create finished circuit\n",
    "grover_circuit = QuantumCircuit(num_of_qubits)\n",
    "grover_circuit = circ_initializer(grover_circuit, [0,1,2])\n",
    "grover_circuit.barrier()\n",
    "grover_circuit.append(oracle, [0,1,2])\n",
    "grover_circuit.append(diffuser(num_of_qubits), [0,1,2])\n",
    "grover_circuit.measure_all()\n",
    "grover_circuit.draw(output='mpl')"
   ]
  },
  {
   "cell_type": "markdown",
   "id": "034c3daf",
   "metadata": {},
   "source": [
    "Now, let's test are algorithm! Our expected result should be around 50% |110> and 50% |101>. Due to the probabilistic  nature of quantum, this won't be 100% accurate but it should be close."
   ]
  },
  {
   "cell_type": "code",
   "execution_count": 22,
   "id": "e431c2ed",
   "metadata": {},
   "outputs": [
    {
     "data": {
      "text/plain": [
       "{'110': 503, '101': 521}"
      ]
     },
     "execution_count": 22,
     "metadata": {},
     "output_type": "execute_result"
    }
   ],
   "source": [
    "backend = Aer.get_backend('qasm_simulator')\n",
    "result = execute(grover_circuit, backend).result()\n",
    "result.get_counts()"
   ]
  },
  {
   "cell_type": "markdown",
   "id": "7b28ab86",
   "metadata": {},
   "source": [
    "Perfect! Our Grover's algorithm works on 3 qubits. This can even be scaled up to any amount of qubits - however current quantum computers may not be able to support that due to quantum decoherence and noise.\n",
    "\n",
    "Let's graph a histogram of our results to conclude Grover's Algorithm!"
   ]
  },
  {
   "cell_type": "code",
   "execution_count": 24,
   "id": "177a6d2e",
   "metadata": {},
   "outputs": [
    {
     "data": {
      "image/png": "[encoded data removed]",
      "text/plain": [
       "<Figure size 504x360 with 1 Axes>"
      ]
     },
     "execution_count": 24,
     "metadata": {},
     "output_type": "execute_result"
    }
   ],
   "source": [
    "from qiskit.visualization import plot_histogram\n",
    "aer_sim = Aer.get_backend('aer_simulator')\n",
    "transpiled_grover_circuit = transpile(grover_circuit, aer_sim)\n",
    "qobj = assemble(transpiled_grover_circuit)\n",
    "results = aer_sim.run(qobj).result()\n",
    "counts = results.get_counts()\n",
    "plot_histogram(counts)"
   ]
  }
 ],
 "metadata": {
  "kernelspec": {
   "display_name": "Python 3 (ipykernel)",
   "language": "python",
   "name": "python3"
  },
  "language_info": {
   "codemirror_mode": {
    "name": "ipython",
    "version": 3
   },
   "file_extension": ".py",
   "mimetype": "text/x-python",
   "name": "python",
   "nbconvert_exporter": "python",
   "pygments_lexer": "ipython3",
   "version": "3.9.7"
  }
 },
 "nbformat": 4,
 "nbformat_minor": 5
}
